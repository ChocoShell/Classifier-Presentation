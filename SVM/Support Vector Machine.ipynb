{
 "cells": [
  {
   "cell_type": "markdown",
   "metadata": {},
   "source": [
    "# Support Vector Machine\n",
    "\n",
    "**Support Vector Machine(SVM)** is a supervised machine learning algorithm which can be used for both classification or regression challenges. However, it is mostly used in classification problems.\n",
    "\n",
    "It finds a boundary between groups of data."
   ]
  },
  {
   "cell_type": "markdown",
   "metadata": {},
   "source": [
    "![SVM2](SVM2.PNG)"
   ]
  },
  {
   "cell_type": "markdown",
   "metadata": {},
   "source": [
    "### What is the best line that divides two groups of data?\n",
    "\n",
    "We want the middle line to be far away from the top line and bottom line. So, we want the distance between the two gray, parallel lines to be maximum.  This distance is called the margin.\n",
    "\n",
    "Dividing a vector by the length, normalizes it, changing it into the vector version of 1.\n",
    "\n",
    "The points close to the boundary are the only ones that matter for this classifier."
   ]
  },
  {
   "cell_type": "markdown",
   "metadata": {},
   "source": [
    "### When should we use SVM?\n",
    "\n",
    "The benefit is that you can capture much more complex relationships between your datapoints without having to perform difficult transformations on your own. The downside is that the training time is much longer as it's much more computationally intensive.\n",
    "\n",
    "A lot more confusing than Logistic Regression."
   ]
  },
  {
   "cell_type": "markdown",
   "metadata": {},
   "source": [
    "![circle](SMVcircle.png)\n",
    "\n",
    "Using $z = x^2 + y^2$"
   ]
  },
  {
   "cell_type": "markdown",
   "metadata": {},
   "source": [
    "![circle](SVM_9.png)"
   ]
  },
  {
   "cell_type": "markdown",
   "metadata": {},
   "source": [
    "Back in the x,y graph:\n",
    "\n",
    "![circle](SVM_10.png)\n",
    "\n",
    "This is called a kernel trick.  We are transforming our data to fit the SVM model.\n",
    "\n",
    "SVM can do this itself in the python sklearn library."
   ]
  },
  {
   "cell_type": "code",
   "execution_count": 66,
   "metadata": {},
   "outputs": [],
   "source": [
    "from sklearn.svm import SVC\n",
    "classifier = SVC(kernel = 'rbf', random_state = 0)"
   ]
  }
 ],
 "metadata": {
  "kernelspec": {
   "display_name": "Python 2",
   "language": "python",
   "name": "python2"
  },
  "language_info": {
   "codemirror_mode": {
    "name": "ipython",
    "version": 2
   },
   "file_extension": ".py",
   "mimetype": "text/x-python",
   "name": "python",
   "nbconvert_exporter": "python",
   "pygments_lexer": "ipython2",
   "version": "2.7.14"
  }
 },
 "nbformat": 4,
 "nbformat_minor": 2
}
