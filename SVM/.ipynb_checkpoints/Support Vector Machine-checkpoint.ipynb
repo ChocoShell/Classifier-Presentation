{
 "cells": [
  {
   "cell_type": "markdown",
   "metadata": {},
   "source": [
    "# Support Vector Machine\n",
    "\n",
    "### What is the best line that divides two groups of data?\n",
    "\n",
    "Y is the classification label.  Y is 0 at the line.  y $\\leftarrow$ {-1, +1}\n",
    "\n",
    "We want the middle line to be far away from the top line and bottom line. So, we want the distance between the two gray, parallel lines to be maximum.  This distance is called the margin.\n",
    "\n",
    "Dividing a vector by the length, normalizes it, changing it into the vector version of 1."
   ]
  },
  {
   "cell_type": "markdown",
   "metadata": {},
   "source": [
    "![SVMdistance](SVMdistance.PNG)"
   ]
  },
  {
   "cell_type": "markdown",
   "metadata": {},
   "source": []
  }
 ],
 "metadata": {
  "kernelspec": {
   "display_name": "Python 2",
   "language": "python",
   "name": "python2"
  },
  "language_info": {
   "codemirror_mode": {
    "name": "ipython",
    "version": 2
   },
   "file_extension": ".py",
   "mimetype": "text/x-python",
   "name": "python",
   "nbconvert_exporter": "python",
   "pygments_lexer": "ipython2",
   "version": "2.7.14"
  }
 },
 "nbformat": 4,
 "nbformat_minor": 2
}
