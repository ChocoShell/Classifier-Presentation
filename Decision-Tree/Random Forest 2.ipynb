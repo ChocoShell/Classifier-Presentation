{
 "cells": [
  {
   "cell_type": "markdown",
   "metadata": {},
   "source": [
    "# Random Forest\n",
    "\n",
    "**Random Forest** is a statistical algorithm that is used to cluster points of data in groups.\n",
    "\n",
    "It is an ensemble approach made up of decision trees.  This can can also be thought of as a form of nearest neighbor predictor.[^1]\n",
    "\n",
    "**Ensembles** are groups of learners working together to create a strong learner.\n",
    "\n",
    "We take ten bad models and can make one good model because their errors are not correlated with eachother due to them creating trees off of different chunks of data.\n",
    "\n",
    "\n",
    "[^1]: http://blog.citizennet.com/blog/2012/11/10/random-forests-ensembles-and-performance-metrics\n",
    "\n",
    "\n",
    "This is a very popular machine learning algorithm and the go to algorithm for a lot of users because it works pretty well on different types of datasets without much work.\n",
    "\n",
    "#### Random forest is kind of universal.\n",
    "- It can predict any kind, (categorical or continous) any columns, pixels, zip codes, revenues.\n",
    "- In general, it doesn't overfit and if it does, it is easy to fix.\n",
    "- Don't need a separate validation set.\n",
    "- It has few if any statistical assumptions.\n",
    "- It doesn't assume normal distributions, or linear.\n",
    "- Not much feature engineering required.\n",
    "- Doesn't need much math manipulation.\n",
    "\n",
    "##### When is RF better than KNN?\n",
    "- If the data has multiple useless variables (fast car, color of car doesn't matter), KNN will still care about them.\n",
    "\n",
    "##### When is RF better than LR?\n",
    "- It doesn't work in Euclidean space(distance) so it's not tied to assuming the data is linear\n",
    "- The input variables may relate to the ouptut variable in non linear ways (x1$\\cdot$x2 = y)\n",
    "\n",
    "##### Cons\n",
    "- Fast to train but slow to predict, so it may be too slow when real time predictions are needed (self driving cars, high frequency trading)"
   ]
  },
  {
   "cell_type": "markdown",
   "metadata": {},
   "source": [
    "### Ensemble Example Image\n",
    "![ensemble pic](https://blog.citizennet.com/hs-fs/hubfs/Imported_Blog_Media/skitch.png?t=1529595390188&width=482&name=skitch.png)\n",
    "The gray ones are a good guess at the data but the red curve is much better."
   ]
  },
  {
   "cell_type": "markdown",
   "metadata": {},
   "source": [
    "### Random Forest with Decision Trees\n",
    "![Simple Random Forest](https://d2wh20haedxe3f.cloudfront.net/sites/default/files/random_forest_diagram_complete.png)"
   ]
  },
  {
   "cell_type": "markdown",
   "metadata": {},
   "source": [
    "### Decision Trees\n",
    "\n",
    "![titanic](titanic_tree.png)"
   ]
  },
  {
   "cell_type": "markdown",
   "metadata": {},
   "source": [
    "### Advantages of Decision Tress\n",
    " - Simple to understand, interpret and visualize.\n",
    " - Implicitly perform feature selection\n",
    " - Handles numerical or categorical data\n",
    " - Not much effort needed in setting up data."
   ]
  },
  {
   "cell_type": "markdown",
   "metadata": {},
   "source": [
    "### Disadvantages\n",
    " - May create overally complex trees that cause overfitting instead of generalizing the data.\n",
    " - They can become unstable because of small variations in data which can be fixed with methods known as bagging and boosting.\n",
    " - Because decision trees are **greedy** they go for the best answer for the next step, which may cause us to get stuck in a local minimum and not the global minimum that we want."
   ]
  },
  {
   "cell_type": "markdown",
   "metadata": {},
   "source": [
    "##### Decision Tree Example\n",
    "We want to predict whether he will play tennis based on this data\n",
    "![tennis](tennis.PNG)\n",
    "\n",
    "Here is our initial tree structure.  When the sky is overcast, he has a 100% chance to play tennis.  This is called a pure subset.  Since the other choices lead to impure subsets, we should split them even further.\n",
    "![playing](playingBaseball.PNG)\n",
    "\n",
    "Once we split all the choices down into pure subsets, we can accurately predict what days John will play tennis.\n",
    "![playing](baseballSplit.PNG)\n",
    "\n",
    "This leads us to the simplified tree below.\n",
    "![final](finalTree.PNG)"
   ]
  },
  {
   "cell_type": "markdown",
   "metadata": {},
   "source": [
    "#### Decision Tree Code Example"
   ]
  },
  {
   "cell_type": "code",
   "execution_count": 1,
   "metadata": {},
   "outputs": [
    {
     "name": "stdout",
     "output_type": "stream",
     "text": [
      "Tennis data untouched:\n",
      "\n",
      "    Day   Outlook Humidity    Wind Play\n",
      "0     1     Sunny     High    Weak   No\n",
      "1     2     Sunny     High  Strong   No\n",
      "2     3  Overcast     High    Weak  Yes\n",
      "3     4      Rain     High    Weak  Yes\n",
      "4     5      Rain   Normal    Weak  Yes\n",
      "5     6      Rain   Normal  Strong   No\n",
      "6     7  Overcast   Normal  Strong  Yes\n",
      "7     8     Sunny     High    Weak   No\n",
      "8     9     Sunny   Normal    Weak  Yes\n",
      "9    10      Rain   Normal    Weak  Yes\n",
      "10   11     Sunny   Normal  Strong  Yes\n",
      "11   12  Overcast     High  Strong  Yes\n",
      "12   13  Overcast   Normal    Weak  Yes\n",
      "13   14      Rain     High  Strong   No\n",
      "\n",
      "--------------------------------\n",
      "Tennis Input Data with Categories: \n",
      "\n",
      "     Outlook  Humidity  Wind\n",
      "Day                         \n",
      "1          2         0     1\n",
      "2          2         0     0\n",
      "3          0         0     1\n",
      "4          1         0     1\n",
      "5          1         1     1\n",
      "\n",
      "---------------------------------\n",
      "Tennis Output Data with Categories: \n",
      "\n",
      "Day\n",
      "1    0\n",
      "2    0\n",
      "3    1\n",
      "4    1\n",
      "5    1\n",
      "Name: Play, dtype: int8\n"
     ]
    }
   ],
   "source": [
    "# For reading in CSV files and data manipulation\n",
    "import pandas as pd\n",
    "# For math manipulation\n",
    "import numpy as np\n",
    "\n",
    "# Reading in Tennis Data.\n",
    "tennis = pd.read_csv(\"tennis.csv\")\n",
    "\n",
    "print(\"Tennis data untouched:\\n\")\n",
    "print(tennis)\n",
    "\n",
    "# Using Day as index\n",
    "tennis.set_index('Day', inplace=True)\n",
    "\n",
    "# Saving copy of mostly untouched data\n",
    "untouched_data = tennis\n",
    "\n",
    "# Changing all categorical columns to numbers\n",
    "for column in tennis.columns.values:\n",
    "    tennis[column] = tennis[column].astype('category')\n",
    "\n",
    "tennis = tennis.apply(lambda x: x.cat.codes)\n",
    "\n",
    "# Splitting data into input data and output data\n",
    "tennis_x = tennis.drop('Play', axis=1)\n",
    "tennis_y = tennis['Play']\n",
    "\n",
    "print(\"\\n--------------------------------\\nTennis Input Data with Categories: \\n\")\n",
    "\"\"\"\n",
    "Outlook:          Humidity:        Wind:            Play:\n",
    "    Sunny = 2         High = 0         Weak = 1         No = 0\n",
    "    Overcast = 0      Normal = 1       Strong = 0       Yes = 1\n",
    "    Rain = 1\n",
    "\"\"\"\n",
    "print(tennis_x.head())\n",
    "print(\"\\n---------------------------------\\nTennis Output Data with Categories: \\n\")\n",
    "print(tennis_y.head())"
   ]
  },
  {
   "cell_type": "code",
   "execution_count": 2,
   "metadata": {},
   "outputs": [],
   "source": [
    "# Training our decision tree model\n",
    "from sklearn.tree import DecisionTreeClassifier\n",
    "dtclf = DecisionTreeClassifier()\n",
    "dtmodel = dtclf.fit(tennis_x, tennis_y)"
   ]
  },
  {
   "cell_type": "code",
   "execution_count": 3,
   "metadata": {
    "scrolled": true
   },
   "outputs": [],
   "source": [
    "# Visualizing our tree\n",
    "import graphviz\n",
    "import os\n",
    "from sklearn.tree import export_graphviz\n",
    "\n",
    "tree = export_graphviz(\n",
    "    dtmodel,\n",
    "    feature_names=tennis_x.columns,\n",
    "    filled=True,\n",
    "    rounded=True,\n",
    "    out_file=\"tree.dot\"\n",
    ")\n",
    "\n",
    "# Run this to print out image\n",
    "# os.system('dot -Tpng tree.dot -o tree.png')"
   ]
  },
  {
   "cell_type": "markdown",
   "metadata": {},
   "source": [
    "![tennistree](tennisTree.png)"
   ]
  },
  {
   "cell_type": "markdown",
   "metadata": {},
   "source": [
    "### Breaking down our tree\n",
    "![catCodes](catCodes.png)"
   ]
  },
  {
   "cell_type": "markdown",
   "metadata": {},
   "source": [
    "#### Check when Outlook is Overcast\n",
    "![overcast](tennistree1.png)"
   ]
  },
  {
   "cell_type": "code",
   "execution_count": 4,
   "metadata": {},
   "outputs": [
    {
     "data": {
      "text/html": [
       "<div>\n",
       "<style scoped>\n",
       "    .dataframe tbody tr th:only-of-type {\n",
       "        vertical-align: middle;\n",
       "    }\n",
       "\n",
       "    .dataframe tbody tr th {\n",
       "        vertical-align: top;\n",
       "    }\n",
       "\n",
       "    .dataframe thead th {\n",
       "        text-align: right;\n",
       "    }\n",
       "</style>\n",
       "<table border=\"1\" class=\"dataframe\">\n",
       "  <thead>\n",
       "    <tr style=\"text-align: right;\">\n",
       "      <th></th>\n",
       "      <th>Outlook</th>\n",
       "      <th>Play</th>\n",
       "    </tr>\n",
       "    <tr>\n",
       "      <th>Day</th>\n",
       "      <th></th>\n",
       "      <th></th>\n",
       "    </tr>\n",
       "  </thead>\n",
       "  <tbody>\n",
       "    <tr>\n",
       "      <th>3</th>\n",
       "      <td>Overcast</td>\n",
       "      <td>Yes</td>\n",
       "    </tr>\n",
       "    <tr>\n",
       "      <th>7</th>\n",
       "      <td>Overcast</td>\n",
       "      <td>Yes</td>\n",
       "    </tr>\n",
       "    <tr>\n",
       "      <th>12</th>\n",
       "      <td>Overcast</td>\n",
       "      <td>Yes</td>\n",
       "    </tr>\n",
       "    <tr>\n",
       "      <th>13</th>\n",
       "      <td>Overcast</td>\n",
       "      <td>Yes</td>\n",
       "    </tr>\n",
       "  </tbody>\n",
       "</table>\n",
       "</div>"
      ],
      "text/plain": [
       "      Outlook Play\n",
       "Day               \n",
       "3    Overcast  Yes\n",
       "7    Overcast  Yes\n",
       "12   Overcast  Yes\n",
       "13   Overcast  Yes"
      ]
     },
     "execution_count": 4,
     "metadata": {},
     "output_type": "execute_result"
    }
   ],
   "source": [
    "# First part of the tree tells us to split on whether the data is Overcast or not.\n",
    "untouched_data[untouched_data['Outlook'] == 'Overcast'][['Outlook', 'Play']]\n",
    "# When it's overcast, they will always play tennis.\n",
    "\n",
    "# Add overcast False"
   ]
  },
  {
   "cell_type": "markdown",
   "metadata": {},
   "source": [
    "#### Humidity Check after Outlook is not Overcast\n",
    "![humidity](tennistree2.png)"
   ]
  },
  {
   "cell_type": "code",
   "execution_count": 5,
   "metadata": {},
   "outputs": [
    {
     "data": {
      "text/html": [
       "<div>\n",
       "<style scoped>\n",
       "    .dataframe tbody tr th:only-of-type {\n",
       "        vertical-align: middle;\n",
       "    }\n",
       "\n",
       "    .dataframe tbody tr th {\n",
       "        vertical-align: top;\n",
       "    }\n",
       "\n",
       "    .dataframe thead th {\n",
       "        text-align: right;\n",
       "    }\n",
       "</style>\n",
       "<table border=\"1\" class=\"dataframe\">\n",
       "  <thead>\n",
       "    <tr style=\"text-align: right;\">\n",
       "      <th></th>\n",
       "      <th>Outlook</th>\n",
       "      <th>Humidity</th>\n",
       "      <th>Wind</th>\n",
       "      <th>Play</th>\n",
       "    </tr>\n",
       "    <tr>\n",
       "      <th>Day</th>\n",
       "      <th></th>\n",
       "      <th></th>\n",
       "      <th></th>\n",
       "      <th></th>\n",
       "    </tr>\n",
       "  </thead>\n",
       "  <tbody>\n",
       "    <tr>\n",
       "      <th>1</th>\n",
       "      <td>Sunny</td>\n",
       "      <td>High</td>\n",
       "      <td>Weak</td>\n",
       "      <td>No</td>\n",
       "    </tr>\n",
       "    <tr>\n",
       "      <th>2</th>\n",
       "      <td>Sunny</td>\n",
       "      <td>High</td>\n",
       "      <td>Strong</td>\n",
       "      <td>No</td>\n",
       "    </tr>\n",
       "    <tr>\n",
       "      <th>4</th>\n",
       "      <td>Rain</td>\n",
       "      <td>High</td>\n",
       "      <td>Weak</td>\n",
       "      <td>Yes</td>\n",
       "    </tr>\n",
       "    <tr>\n",
       "      <th>5</th>\n",
       "      <td>Rain</td>\n",
       "      <td>Normal</td>\n",
       "      <td>Weak</td>\n",
       "      <td>Yes</td>\n",
       "    </tr>\n",
       "    <tr>\n",
       "      <th>6</th>\n",
       "      <td>Rain</td>\n",
       "      <td>Normal</td>\n",
       "      <td>Strong</td>\n",
       "      <td>No</td>\n",
       "    </tr>\n",
       "    <tr>\n",
       "      <th>8</th>\n",
       "      <td>Sunny</td>\n",
       "      <td>High</td>\n",
       "      <td>Weak</td>\n",
       "      <td>No</td>\n",
       "    </tr>\n",
       "    <tr>\n",
       "      <th>9</th>\n",
       "      <td>Sunny</td>\n",
       "      <td>Normal</td>\n",
       "      <td>Weak</td>\n",
       "      <td>Yes</td>\n",
       "    </tr>\n",
       "    <tr>\n",
       "      <th>10</th>\n",
       "      <td>Rain</td>\n",
       "      <td>Normal</td>\n",
       "      <td>Weak</td>\n",
       "      <td>Yes</td>\n",
       "    </tr>\n",
       "    <tr>\n",
       "      <th>11</th>\n",
       "      <td>Sunny</td>\n",
       "      <td>Normal</td>\n",
       "      <td>Strong</td>\n",
       "      <td>Yes</td>\n",
       "    </tr>\n",
       "    <tr>\n",
       "      <th>14</th>\n",
       "      <td>Rain</td>\n",
       "      <td>High</td>\n",
       "      <td>Strong</td>\n",
       "      <td>No</td>\n",
       "    </tr>\n",
       "  </tbody>\n",
       "</table>\n",
       "</div>"
      ],
      "text/plain": [
       "    Outlook Humidity    Wind Play\n",
       "Day                              \n",
       "1     Sunny     High    Weak   No\n",
       "2     Sunny     High  Strong   No\n",
       "4      Rain     High    Weak  Yes\n",
       "5      Rain   Normal    Weak  Yes\n",
       "6      Rain   Normal  Strong   No\n",
       "8     Sunny     High    Weak   No\n",
       "9     Sunny   Normal    Weak  Yes\n",
       "10     Rain   Normal    Weak  Yes\n",
       "11    Sunny   Normal  Strong  Yes\n",
       "14     Rain     High  Strong   No"
      ]
     },
     "execution_count": 5,
     "metadata": {},
     "output_type": "execute_result"
    }
   ],
   "source": [
    "# Outlook is not Overcast\n",
    "untouched_data[untouched_data['Outlook'] != 'Overcast']"
   ]
  },
  {
   "cell_type": "code",
   "execution_count": 6,
   "metadata": {},
   "outputs": [
    {
     "data": {
      "text/html": [
       "<div>\n",
       "<style scoped>\n",
       "    .dataframe tbody tr th:only-of-type {\n",
       "        vertical-align: middle;\n",
       "    }\n",
       "\n",
       "    .dataframe tbody tr th {\n",
       "        vertical-align: top;\n",
       "    }\n",
       "\n",
       "    .dataframe thead th {\n",
       "        text-align: right;\n",
       "    }\n",
       "</style>\n",
       "<table border=\"1\" class=\"dataframe\">\n",
       "  <thead>\n",
       "    <tr style=\"text-align: right;\">\n",
       "      <th></th>\n",
       "      <th>Outlook</th>\n",
       "      <th>Humidity</th>\n",
       "      <th>Wind</th>\n",
       "      <th>Play</th>\n",
       "    </tr>\n",
       "    <tr>\n",
       "      <th>Day</th>\n",
       "      <th></th>\n",
       "      <th></th>\n",
       "      <th></th>\n",
       "      <th></th>\n",
       "    </tr>\n",
       "  </thead>\n",
       "  <tbody>\n",
       "    <tr>\n",
       "      <th>1</th>\n",
       "      <td>Sunny</td>\n",
       "      <td>High</td>\n",
       "      <td>Weak</td>\n",
       "      <td>No</td>\n",
       "    </tr>\n",
       "    <tr>\n",
       "      <th>2</th>\n",
       "      <td>Sunny</td>\n",
       "      <td>High</td>\n",
       "      <td>Strong</td>\n",
       "      <td>No</td>\n",
       "    </tr>\n",
       "    <tr>\n",
       "      <th>4</th>\n",
       "      <td>Rain</td>\n",
       "      <td>High</td>\n",
       "      <td>Weak</td>\n",
       "      <td>Yes</td>\n",
       "    </tr>\n",
       "    <tr>\n",
       "      <th>8</th>\n",
       "      <td>Sunny</td>\n",
       "      <td>High</td>\n",
       "      <td>Weak</td>\n",
       "      <td>No</td>\n",
       "    </tr>\n",
       "    <tr>\n",
       "      <th>14</th>\n",
       "      <td>Rain</td>\n",
       "      <td>High</td>\n",
       "      <td>Strong</td>\n",
       "      <td>No</td>\n",
       "    </tr>\n",
       "  </tbody>\n",
       "</table>\n",
       "</div>"
      ],
      "text/plain": [
       "    Outlook Humidity    Wind Play\n",
       "Day                              \n",
       "1     Sunny     High    Weak   No\n",
       "2     Sunny     High  Strong   No\n",
       "4      Rain     High    Weak  Yes\n",
       "8     Sunny     High    Weak   No\n",
       "14     Rain     High  Strong   No"
      ]
     },
     "execution_count": 6,
     "metadata": {},
     "output_type": "execute_result"
    }
   ],
   "source": [
    "untouched_data[\n",
    "    (untouched_data['Outlook'] != 'Overcast') & (untouched_data['Humidity'] == 'High')\n",
    "]"
   ]
  },
  {
   "cell_type": "markdown",
   "metadata": {},
   "source": [
    "![TennisTree4](tennisTree4.png)"
   ]
  },
  {
   "cell_type": "markdown",
   "metadata": {},
   "source": [
    "### How is a decision tree split?\n",
    "\n",
    "http://www.saedsayad.com/decision_tree.htm\n",
    "\n",
    "https://medium.com/deep-math-machine-learning-ai/chapter-4-decision-trees-algorithms-b93975f7a1f1\n",
    "\n",
    "http://dni-institute.in/blogs/cart-decision-tree-gini-index-explained/\n",
    "\n",
    "**Gini impurity** is a measure of how often a randomly chosen element from the set would be incorrectly labeled if it was randomly labeled according to the distribution of labels in the subset.\n",
    "\n",
    "You can just choose from the set twice.  Once for the label, and once for the actual element.\n",
    "\n",
    "Probability of not getting the same result twice in a row.\n",
    "\n",
    "$$Gini = \\sum_{i \\neq j} p(i)p(j) = p(0) \\times p(1) + p(1) \\times p(0)$$\n",
    "\n",
    "$$1 = \\\\ P(t_1) \\times P(t_1) + \\\\ P(t_1) \\times P(t_0) + \\\\ P(t_0) \\times P(t_1) + \\\\ P(t_0) \\times P(t_0)$$\n",
    "\n",
    "\n",
    "$$1 - P(t_1) \\times P(t_1) - P(t_0) \\times P(t_0) = \\\\ P(t_1) \\times P(t_0) + P(t_0) \\times P(t_1)$$\n",
    "\n",
    "$$Gini(t) = 1 - \\sum^{t=1}_{t=0}P_t^2$$\n",
    "\n",
    "$$ Gini(t) = 1 - P_{t=0}^2 - P_{t=1}^2 $$\n",
    "\n",
    "This is what we use to choose what category to split on:\n",
    "\n",
    "$$Gini(s, t) = Gini(t) - P_T \\times Gini(t_T) - P_F \\times Gini(t_F)$$\n",
    "Where:\n",
    " - s: split\n",
    " - t: node\n",
    " - Gini(t): Gini index of input node t\n",
    " - $P_T$: Number of cases where s is true over total number of cases.\n",
    " - Gini($t_T$): Gini of Left(True) node after split, s\n",
    " - $P_F$: Total Number of cases where s is false over total number of cases.\n",
    " - Gini($t_F$): Gini of Right(False) Node after split, s\n",
    " \n",
    "\n",
    "\n",
    "Let's find the gini impurity of the dependent variable."
   ]
  },
  {
   "cell_type": "code",
   "execution_count": 7,
   "metadata": {},
   "outputs": [
    {
     "data": {
      "text/html": [
       "<div>\n",
       "<style scoped>\n",
       "    .dataframe tbody tr th:only-of-type {\n",
       "        vertical-align: middle;\n",
       "    }\n",
       "\n",
       "    .dataframe tbody tr th {\n",
       "        vertical-align: top;\n",
       "    }\n",
       "\n",
       "    .dataframe thead th {\n",
       "        text-align: right;\n",
       "    }\n",
       "</style>\n",
       "<table border=\"1\" class=\"dataframe\">\n",
       "  <thead>\n",
       "    <tr style=\"text-align: right;\">\n",
       "      <th></th>\n",
       "      <th>Count</th>\n",
       "    </tr>\n",
       "    <tr>\n",
       "      <th>Play</th>\n",
       "      <th></th>\n",
       "    </tr>\n",
       "  </thead>\n",
       "  <tbody>\n",
       "    <tr>\n",
       "      <th>No</th>\n",
       "      <td>5</td>\n",
       "    </tr>\n",
       "    <tr>\n",
       "      <th>Yes</th>\n",
       "      <td>9</td>\n",
       "    </tr>\n",
       "  </tbody>\n",
       "</table>\n",
       "</div>"
      ],
      "text/plain": [
       "      Count\n",
       "Play       \n",
       "No        5\n",
       "Yes       9"
      ]
     },
     "execution_count": 7,
     "metadata": {},
     "output_type": "execute_result"
    }
   ],
   "source": [
    "x = untouched_data.groupby('Play').count()\n",
    "\n",
    "x = x.drop(columns=['Outlook', 'Wind'])\n",
    "x.rename(columns={'Humidity': 'Count'})"
   ]
  },
  {
   "cell_type": "markdown",
   "metadata": {},
   "source": [
    "$$Gini(output) = 1 - (\\frac{5}{14})^2 - (\\frac{9}{14})^2$$"
   ]
  },
  {
   "cell_type": "code",
   "execution_count": 8,
   "metadata": {},
   "outputs": [
    {
     "data": {
      "text/plain": [
       "0.459"
      ]
     },
     "execution_count": 8,
     "metadata": {},
     "output_type": "execute_result"
    }
   ],
   "source": [
    "# Round to 3 decimal places\n",
    "round(\n",
    "    1.0 - ((5.0/(5.0+9.0))**2.0) - ((9.0/(5.0+9.0))**2.0),\n",
    "    3\n",
    ")\n",
    "# Which is the same as the gini of the first node in the decision tree."
   ]
  },
  {
   "cell_type": "code",
   "execution_count": 9,
   "metadata": {},
   "outputs": [
    {
     "data": {
      "text/html": [
       "<table>\n",
       "<tbody>\n",
       "<tr><td>        </td><td>No</td><td>Yes</td><td>Total</td></tr>\n",
       "<tr><td>Overcast</td><td>0 </td><td>4  </td><td>4    </td></tr>\n",
       "<tr><td>Rain    </td><td>2 </td><td>3  </td><td>5    </td></tr>\n",
       "<tr><td>Sunny   </td><td>3 </td><td>2  </td><td>5    </td></tr>\n",
       "<tr><td>Total   </td><td>5 </td><td>9  </td><td>14   </td></tr>\n",
       "</tbody>\n",
       "</table>"
      ],
      "text/plain": [
       "<IPython.core.display.HTML object>"
      ]
     },
     "metadata": {},
     "output_type": "display_data"
    }
   ],
   "source": [
    "from IPython.display import HTML, display\n",
    "import tabulate\n",
    "table = [[\"\",\"No\",\"Yes\", \"Total\"],\n",
    "         [\"Overcast\",0,4, 4],\n",
    "         [\"Rain\",2,3, 5],\n",
    "         [\"Sunny\",3,2, 5],\n",
    "         [\"Total\",5,9, 14]]\n",
    "display(HTML(tabulate.tabulate(table, tablefmt='html')))"
   ]
  },
  {
   "cell_type": "markdown",
   "metadata": {},
   "source": [
    "When Overcast:\n",
    "\n",
    "$$Gini(Overcast, index) = Gini(index) - P_T \\times Gini(OvercastIsTrue) - P_F \\times Gini(OvercastIsFalse)$$\n",
    "\n",
    "Gini(t) is 0.46.  Gini index of dependent variable:\n",
    "$$Gini(Overcast, index) = 0.46 - P_T \\times Gini(OvercastIsTrue) - P_F \\times Gini(OvercastIsFalse)$$\n",
    "\n",
    "Solving for inner Ginis:\n",
    "$$Gini(OvercastIsTrue) = 1 - (\\frac{0}{4})^2 - (\\frac{4}{4})^2 = 0$$\n",
    "$$Gini(OvercastIsFalse) = 1 - (\\frac{5}{10})^2 - (\\frac{5}{10})^2 = 0.5$$\n",
    "\n",
    "We are left with:\n",
    "$$Gini(Overcast, t) = 0.46 - P_T \\times 0 - P_F \\times 0.5)$$\n",
    "\n",
    "Solving P's:\n",
    "$$P_T = \\frac{4}{14}$$\n",
    "\n",
    "$$P_F = \\frac{10}{14}$$\n",
    "\n",
    "Pluging everything in gives us:\n",
    "\n",
    "$$Gini(Overcast, index) = 0.46 - \\frac{4}{14} \\times 0 - \\frac{10}{14} \\times 0.5 = 0.103$$"
   ]
  },
  {
   "cell_type": "code",
   "execution_count": 10,
   "metadata": {},
   "outputs": [
    {
     "data": {
      "text/html": [
       "<table>\n",
       "<tbody>\n",
       "<tr><td>      </td><td>No</td><td>Yes</td><td>Total</td></tr>\n",
       "<tr><td>Strong</td><td>3 </td><td>3  </td><td>6    </td></tr>\n",
       "<tr><td>Weak  </td><td>2 </td><td>6  </td><td>8    </td></tr>\n",
       "<tr><td>Total </td><td>5 </td><td>9  </td><td>14   </td></tr>\n",
       "</tbody>\n",
       "</table>"
      ],
      "text/plain": [
       "<IPython.core.display.HTML object>"
      ]
     },
     "metadata": {},
     "output_type": "display_data"
    }
   ],
   "source": [
    "# Wind\n",
    "table = [[\"\",\"No\",\"Yes\", \"Total\"],\n",
    "         [\"Strong\", 3, 3, 6],\n",
    "         [\"Weak\", 2, 6, 8],\n",
    "         [\"Total\", 5, 9, 14]]\n",
    "display(HTML(tabulate.tabulate(table, tablefmt='html')))"
   ]
  },
  {
   "cell_type": "code",
   "execution_count": 11,
   "metadata": {},
   "outputs": [
    {
     "data": {
      "text/html": [
       "<table>\n",
       "<tbody>\n",
       "<tr><td>      </td><td>No</td><td>Yes</td><td>Total</td></tr>\n",
       "<tr><td>High  </td><td>4 </td><td>3  </td><td>7    </td></tr>\n",
       "<tr><td>Normal</td><td>1 </td><td>6  </td><td>7    </td></tr>\n",
       "<tr><td>Total </td><td>5 </td><td>9  </td><td>14   </td></tr>\n",
       "</tbody>\n",
       "</table>"
      ],
      "text/plain": [
       "<IPython.core.display.HTML object>"
      ]
     },
     "metadata": {},
     "output_type": "display_data"
    }
   ],
   "source": [
    "# Humidity\n",
    "table = [[\"\",\"No\",\"Yes\", \"Total\"],\n",
    "         [\"High\", 4, 3, 7],\n",
    "         [\"Normal\", 1, 6, 7],\n",
    "         [\"Total\", 5, 9, 14]]\n",
    "display(HTML(tabulate.tabulate(table, tablefmt='html')))"
   ]
  },
  {
   "cell_type": "markdown",
   "metadata": {},
   "source": [
    "The rest for the first level:\n",
    " - Gini(Rain, index) = $0.46 - \\frac{5}{14} \\times [1 - (\\frac{2}{5})^2 - (\\frac{3}{5})^2] - \\frac{9}{14} \\times [1 - (\\frac{3}{9})^2 - (\\frac{6}{9})^2] = 0.003$\n",
    " - Gini(Sunny, index) = $0.46 - \\frac{5}{14} \\times [1 - (\\frac{3}{5})^2 - (\\frac{2}{5})^2] - \\frac{9}{14} \\times [1 - (\\frac{2}{9})^2 - (\\frac{7}{9})^2] = 0.066$\n",
    " - Gini(Wind, index) = $0.46 - \\frac{6}{14} \\times [1 - (\\frac{3}{6})^2 - (\\frac{3}{6})^2] - \\frac{8}{14} \\times [1 - (\\frac{2}{8})^2 - (\\frac{6}{8})^2] = 0.031$\n",
    " - Gini(Humidity, index) = $0.46 - \\frac{7}{14} \\times [1 - (\\frac{4}{7})^2 - (\\frac{3}{7})^2] - \\frac{7}{14} \\times [1 - (\\frac{1}{7})^2 - (\\frac{6}{7})^2] = 0.093$"
   ]
  },
  {
   "cell_type": "code",
   "execution_count": 12,
   "metadata": {},
   "outputs": [
    {
     "data": {
      "text/html": [
       "<div>\n",
       "<style scoped>\n",
       "    .dataframe tbody tr th:only-of-type {\n",
       "        vertical-align: middle;\n",
       "    }\n",
       "\n",
       "    .dataframe tbody tr th {\n",
       "        vertical-align: top;\n",
       "    }\n",
       "\n",
       "    .dataframe thead th {\n",
       "        text-align: right;\n",
       "    }\n",
       "</style>\n",
       "<table border=\"1\" class=\"dataframe\">\n",
       "  <thead>\n",
       "    <tr style=\"text-align: right;\">\n",
       "      <th></th>\n",
       "      <th>Outlook</th>\n",
       "      <th>Humidity</th>\n",
       "      <th>Wind</th>\n",
       "    </tr>\n",
       "    <tr>\n",
       "      <th>Play</th>\n",
       "      <th></th>\n",
       "      <th></th>\n",
       "      <th></th>\n",
       "    </tr>\n",
       "  </thead>\n",
       "  <tbody>\n",
       "    <tr>\n",
       "      <th>No</th>\n",
       "      <td>5</td>\n",
       "      <td>5</td>\n",
       "      <td>5</td>\n",
       "    </tr>\n",
       "    <tr>\n",
       "      <th>Yes</th>\n",
       "      <td>9</td>\n",
       "      <td>9</td>\n",
       "      <td>9</td>\n",
       "    </tr>\n",
       "  </tbody>\n",
       "</table>\n",
       "</div>"
      ],
      "text/plain": [
       "      Outlook  Humidity  Wind\n",
       "Play                         \n",
       "No          5         5     5\n",
       "Yes         9         9     9"
      ]
     },
     "execution_count": 12,
     "metadata": {},
     "output_type": "execute_result"
    }
   ],
   "source": [
    "untouched_data.groupby('Play').count()"
   ]
  },
  {
   "cell_type": "code",
   "execution_count": 13,
   "metadata": {},
   "outputs": [],
   "source": [
    "# when Overcast\n",
    "overcast = untouched_data[untouched_data['Outlook'] == 'Overcast']\n",
    "not_overcast = untouched_data[untouched_data['Outlook'] != 'Overcast']"
   ]
  },
  {
   "cell_type": "code",
   "execution_count": 14,
   "metadata": {},
   "outputs": [
    {
     "name": "stdout",
     "output_type": "stream",
     "text": [
      "Gini of root: 0.459\n",
      "Gini of data when overcast: 0.000\n",
      "Gini of data when not overcast: 0.500\n"
     ]
    }
   ],
   "source": [
    "def get_gini(df, output_column):\n",
    "    # Grouping the table into two rows by the output data.\n",
    "    df_copy = df.groupby(output_column).count()\n",
    "    # Getting Column names\n",
    "    col = df_copy.columns.values[0]\n",
    "    # Counting total number of rows\n",
    "    total = df_copy[col].sum()\n",
    "    gini = 1.0\n",
    "    for row in df_copy[col]:\n",
    "        gini -= (1.0*row/total)**2\n",
    "    return gini\n",
    "\n",
    "\n",
    "\n",
    "gini_index = get_gini(untouched_data, 'Play')\n",
    "print(\"Gini of root: %.3f\" % gini_index)\n",
    "print(\"Gini of data when overcast: %.3f\" % get_gini(overcast, 'Play'))\n",
    "print(\"Gini of data when not overcast: %.3f\" % get_gini(not_overcast, 'Play'))"
   ]
  },
  {
   "cell_type": "markdown",
   "metadata": {},
   "source": [
    "$$Gini(Humidity, 1st False Node) = Gini(1st False Node) - P_T \\times Gini(High) - P_F \\times Gini(Normal)$$\n",
    "\n",
    "\n",
    "$$Gini(Humidity, 1st False Node) = 0.5 - P_T \\times Gini(High) - P_F \\times Gini(Normal)$$"
   ]
  },
  {
   "cell_type": "code",
   "execution_count": 15,
   "metadata": {},
   "outputs": [
    {
     "name": "stdout",
     "output_type": "stream",
     "text": [
      "Gini of data when humidity is high: 0.320\n",
      "Gini of data when humidity is normal: 0.320\n"
     ]
    }
   ],
   "source": [
    "high_humidity = not_overcast[not_overcast['Humidity'] == 'High']\n",
    "normal_humidity = not_overcast[not_overcast['Humidity'] != 'High']\n",
    "\n",
    "gini_high = get_gini(high_humidity, 'Play')\n",
    "gini_normal = get_gini(normal_humidity, 'Play')\n",
    "\n",
    "print(\"Gini of data when humidity is high: %.3f\" % gini_high)\n",
    "print(\"Gini of data when humidity is normal: %.3f\" % gini_normal)"
   ]
  },
  {
   "cell_type": "markdown",
   "metadata": {},
   "source": [
    "$$Gini(Humidity, 1st False Node) = 0.5 - P_T \\times 0.320 - P_F \\times 0.320$$"
   ]
  },
  {
   "cell_type": "code",
   "execution_count": 16,
   "metadata": {},
   "outputs": [
    {
     "data": {
      "text/html": [
       "<div>\n",
       "<style scoped>\n",
       "    .dataframe tbody tr th:only-of-type {\n",
       "        vertical-align: middle;\n",
       "    }\n",
       "\n",
       "    .dataframe tbody tr th {\n",
       "        vertical-align: top;\n",
       "    }\n",
       "\n",
       "    .dataframe thead th {\n",
       "        text-align: right;\n",
       "    }\n",
       "</style>\n",
       "<table border=\"1\" class=\"dataframe\">\n",
       "  <thead>\n",
       "    <tr style=\"text-align: right;\">\n",
       "      <th></th>\n",
       "      <th>Outlook</th>\n",
       "      <th>Humidity</th>\n",
       "      <th>Wind</th>\n",
       "      <th>Play</th>\n",
       "    </tr>\n",
       "    <tr>\n",
       "      <th>Day</th>\n",
       "      <th></th>\n",
       "      <th></th>\n",
       "      <th></th>\n",
       "      <th></th>\n",
       "    </tr>\n",
       "  </thead>\n",
       "  <tbody>\n",
       "    <tr>\n",
       "      <th>1</th>\n",
       "      <td>Sunny</td>\n",
       "      <td>High</td>\n",
       "      <td>Weak</td>\n",
       "      <td>No</td>\n",
       "    </tr>\n",
       "    <tr>\n",
       "      <th>2</th>\n",
       "      <td>Sunny</td>\n",
       "      <td>High</td>\n",
       "      <td>Strong</td>\n",
       "      <td>No</td>\n",
       "    </tr>\n",
       "    <tr>\n",
       "      <th>4</th>\n",
       "      <td>Rain</td>\n",
       "      <td>High</td>\n",
       "      <td>Weak</td>\n",
       "      <td>Yes</td>\n",
       "    </tr>\n",
       "    <tr>\n",
       "      <th>5</th>\n",
       "      <td>Rain</td>\n",
       "      <td>Normal</td>\n",
       "      <td>Weak</td>\n",
       "      <td>Yes</td>\n",
       "    </tr>\n",
       "    <tr>\n",
       "      <th>6</th>\n",
       "      <td>Rain</td>\n",
       "      <td>Normal</td>\n",
       "      <td>Strong</td>\n",
       "      <td>No</td>\n",
       "    </tr>\n",
       "    <tr>\n",
       "      <th>8</th>\n",
       "      <td>Sunny</td>\n",
       "      <td>High</td>\n",
       "      <td>Weak</td>\n",
       "      <td>No</td>\n",
       "    </tr>\n",
       "    <tr>\n",
       "      <th>9</th>\n",
       "      <td>Sunny</td>\n",
       "      <td>Normal</td>\n",
       "      <td>Weak</td>\n",
       "      <td>Yes</td>\n",
       "    </tr>\n",
       "    <tr>\n",
       "      <th>10</th>\n",
       "      <td>Rain</td>\n",
       "      <td>Normal</td>\n",
       "      <td>Weak</td>\n",
       "      <td>Yes</td>\n",
       "    </tr>\n",
       "    <tr>\n",
       "      <th>11</th>\n",
       "      <td>Sunny</td>\n",
       "      <td>Normal</td>\n",
       "      <td>Strong</td>\n",
       "      <td>Yes</td>\n",
       "    </tr>\n",
       "    <tr>\n",
       "      <th>14</th>\n",
       "      <td>Rain</td>\n",
       "      <td>High</td>\n",
       "      <td>Strong</td>\n",
       "      <td>No</td>\n",
       "    </tr>\n",
       "  </tbody>\n",
       "</table>\n",
       "</div>"
      ],
      "text/plain": [
       "    Outlook Humidity    Wind Play\n",
       "Day                              \n",
       "1     Sunny     High    Weak   No\n",
       "2     Sunny     High  Strong   No\n",
       "4      Rain     High    Weak  Yes\n",
       "5      Rain   Normal    Weak  Yes\n",
       "6      Rain   Normal  Strong   No\n",
       "8     Sunny     High    Weak   No\n",
       "9     Sunny   Normal    Weak  Yes\n",
       "10     Rain   Normal    Weak  Yes\n",
       "11    Sunny   Normal  Strong  Yes\n",
       "14     Rain     High  Strong   No"
      ]
     },
     "execution_count": 16,
     "metadata": {},
     "output_type": "execute_result"
    }
   ],
   "source": [
    "not_overcast"
   ]
  },
  {
   "cell_type": "markdown",
   "metadata": {},
   "source": [
    "$$Gini(Humidity, 1st False Node) = 0.5 - \\frac{5}{10} \\times 0.320 - \\frac{5}{10} \\times 0.320 = 0.18$$"
   ]
  },
  {
   "cell_type": "markdown",
   "metadata": {},
   "source": [
    "The rest for the second level:\n",
    " - Gini(Rain, 1st False Node) = $0.5 - \\frac{5}{10} \\times [1 - (\\frac{2}{5})^2 - (\\frac{3}{5})^2] - \\frac{5}{10} \\times [1 - (\\frac{3}{5})^2 - (\\frac{2}{5})^2] = 0.02$\n",
    " - Gini(Sunny, 1st False Node) = $0.5 - \\frac{5}{10} \\times [1 - (\\frac{3}{5})^2 - (\\frac{2}{5})^2] - \\frac{5}{10} \\times [1 - (\\frac{2}{5})^2 - (\\frac{3}{5})^2] = 0.02$\n",
    " - Gini(Wind, 1st False Node) = $0.5 - \\frac{6}{10} \\times [1 - (\\frac{2}{6})^2 - (\\frac{4}{6})^2] - \\frac{4}{10} \\times [1 - (\\frac{3}{4})^2 - (\\frac{1}{4})^2] = 0.108$\n",
    " "
   ]
  },
  {
   "cell_type": "code",
   "execution_count": 17,
   "metadata": {},
   "outputs": [
    {
     "name": "stdout",
     "output_type": "stream",
     "text": [
      "Gini Impurity of node: 0.500\n",
      "\tGini Impurity Score for Humidty: 0.180\n",
      "\tGini Impurity Score for Rainy Days: 0.020\n",
      "\tGini Impurity Score for Sunny Days: 0.020\n",
      "\tGini Impurity Score for Windy Days: 0.083\n"
     ]
    }
   ],
   "source": [
    "def get_gini_impurity(df, output_column, column, split_column_on):\n",
    "    \n",
    "    split_true = df[df[column] == split_column_on]\n",
    "    split_false = df[df[column] != split_column_on]\n",
    "    \n",
    "    g_t = get_gini(df, output_column)\n",
    "    gini_true = get_gini(df[df[column] == split_column_on], output_column)\n",
    "    gini_false = get_gini(df[df[column] != split_column_on], output_column)\n",
    "    p_true = 1.0*len(split_true)/len(df)\n",
    "    p_false = 1.0*len(split_false)/len(df)\n",
    "    \n",
    "    return g_t - p_true * gini_true - p_false * gini_false\n",
    "\n",
    "gini = get_gini(not_overcast, 'Play')\n",
    "print(\"Gini Impurity of node: %.3f\" % gini)\n",
    "\n",
    "gini_humidity = get_gini_impurity(not_overcast, 'Play', 'Humidity', 'High')\n",
    "print(\"\\tGini Impurity Score for Humidty: %.3f\" % gini_humidity)\n",
    "\n",
    "gini_rain = get_gini_impurity(not_overcast, 'Play', 'Outlook', 'Rain')\n",
    "print(\"\\tGini Impurity Score for Rainy Days: %.3f\" % gini_rain)\n",
    "\n",
    "gini_sunny = get_gini_impurity(not_overcast, 'Play', 'Outlook', 'Sunny')\n",
    "print(\"\\tGini Impurity Score for Sunny Days: %.3f\" % gini_sunny)\n",
    "\n",
    "gini_wind = get_gini_impurity(not_overcast, 'Play', 'Wind', 'Strong')\n",
    "print(\"\\tGini Impurity Score for Windy Days: %.3f\" % gini_wind)\n"
   ]
  },
  {
   "cell_type": "code",
   "execution_count": 18,
   "metadata": {},
   "outputs": [
    {
     "data": {
      "text/html": [
       "<div>\n",
       "<style scoped>\n",
       "    .dataframe tbody tr th:only-of-type {\n",
       "        vertical-align: middle;\n",
       "    }\n",
       "\n",
       "    .dataframe tbody tr th {\n",
       "        vertical-align: top;\n",
       "    }\n",
       "\n",
       "    .dataframe thead th {\n",
       "        text-align: right;\n",
       "    }\n",
       "</style>\n",
       "<table border=\"1\" class=\"dataframe\">\n",
       "  <thead>\n",
       "    <tr style=\"text-align: right;\">\n",
       "      <th></th>\n",
       "      <th>Outlook</th>\n",
       "      <th>Humidity</th>\n",
       "      <th>Wind</th>\n",
       "      <th>Play</th>\n",
       "    </tr>\n",
       "    <tr>\n",
       "      <th>Day</th>\n",
       "      <th></th>\n",
       "      <th></th>\n",
       "      <th></th>\n",
       "      <th></th>\n",
       "    </tr>\n",
       "  </thead>\n",
       "  <tbody>\n",
       "    <tr>\n",
       "      <th>1</th>\n",
       "      <td>Sunny</td>\n",
       "      <td>High</td>\n",
       "      <td>Weak</td>\n",
       "      <td>No</td>\n",
       "    </tr>\n",
       "    <tr>\n",
       "      <th>2</th>\n",
       "      <td>Sunny</td>\n",
       "      <td>High</td>\n",
       "      <td>Strong</td>\n",
       "      <td>No</td>\n",
       "    </tr>\n",
       "    <tr>\n",
       "      <th>4</th>\n",
       "      <td>Rain</td>\n",
       "      <td>High</td>\n",
       "      <td>Weak</td>\n",
       "      <td>Yes</td>\n",
       "    </tr>\n",
       "    <tr>\n",
       "      <th>8</th>\n",
       "      <td>Sunny</td>\n",
       "      <td>High</td>\n",
       "      <td>Weak</td>\n",
       "      <td>No</td>\n",
       "    </tr>\n",
       "    <tr>\n",
       "      <th>14</th>\n",
       "      <td>Rain</td>\n",
       "      <td>High</td>\n",
       "      <td>Strong</td>\n",
       "      <td>No</td>\n",
       "    </tr>\n",
       "  </tbody>\n",
       "</table>\n",
       "</div>"
      ],
      "text/plain": [
       "    Outlook Humidity    Wind Play\n",
       "Day                              \n",
       "1     Sunny     High    Weak   No\n",
       "2     Sunny     High  Strong   No\n",
       "4      Rain     High    Weak  Yes\n",
       "8     Sunny     High    Weak   No\n",
       "14     Rain     High  Strong   No"
      ]
     },
     "execution_count": 18,
     "metadata": {},
     "output_type": "execute_result"
    }
   ],
   "source": [
    "humid = not_overcast[not_overcast['Humidity'] == 'High']\n",
    "not_humid = not_overcast[not_overcast['Humidity'] != 'High']\n",
    "humid"
   ]
  },
  {
   "cell_type": "code",
   "execution_count": 19,
   "metadata": {},
   "outputs": [
    {
     "name": "stdout",
     "output_type": "stream",
     "text": [
      "Gini Impurity of node: 0.320\n",
      "\tGini Impurity Score for Windy Days: 0.053\n",
      "\tGini Impurity Score for Rainy Days: 0.120\n"
     ]
    }
   ],
   "source": [
    "gini = get_gini(humid, 'Play')\n",
    "print(\"Gini Impurity of node: %.3f\" % gini)\n",
    "\n",
    "gini_wind = get_gini_impurity(humid, 'Play', 'Wind', 'Strong')\n",
    "print(\"\\tGini Impurity Score for Windy Days: %.3f\" % gini_wind)\n",
    "\n",
    "gini_rain = get_gini_impurity(humid, 'Play', 'Outlook', 'Rain')\n",
    "print(\"\\tGini Impurity Score for Rainy Days: %.3f\" % gini_rain)"
   ]
  },
  {
   "cell_type": "markdown",
   "metadata": {},
   "source": [
    "# Random Forest Again"
   ]
  },
  {
   "cell_type": "code",
   "execution_count": 39,
   "metadata": {},
   "outputs": [
    {
     "name": "stdout",
     "output_type": "stream",
     "text": [
      "Predictions of all trees:\n",
      "[ 0.  1.  1.  1.  1.]\n",
      "\n",
      "Aggregation of votes: \n",
      "1.0\n",
      "\n",
      "Actual Answer: \n",
      "1\n"
     ]
    }
   ],
   "source": [
    "from sklearn.ensemble import RandomForestClassifier\n",
    "\n",
    "trees = 5\n",
    "# Default number of trees is 10\n",
    "# n_jobs=-1 means run as many jobs as possible to generate the random forest as soon as possible\n",
    "# With replacement: It can choose the same row more than once.\n",
    "rfclf = RandomForestClassifier(n_estimators=trees, n_jobs=-1)\n",
    "rfclf.fit(tennis_x, tennis_y)\n",
    "\n",
    "preds = np.stack([t.predict(tennis_x) for t in rfclf.estimators_])\n",
    "\n",
    "index = 2\n",
    "print('Predictions of all trees:')\n",
    "print(preds[:,index])\n",
    "print('\\nAggregation of votes: ')\n",
    "print(np.float64(np.mean(preds[:,index])>.5))\n",
    "print('\\nActual Answer: ')\n",
    "print(tennis_y.iloc[index])\n"
   ]
  },
  {
   "cell_type": "code",
   "execution_count": 40,
   "metadata": {},
   "outputs": [
    {
     "data": {
      "image/png": "[encoded data removed]",
      "text/plain": [
       "<matplotlib.figure.Figure at 0x7ca0070>"
      ]
     },
     "metadata": {},
     "output_type": "display_data"
    }
   ],
   "source": [
    "from sklearn import metrics\n",
    "import matplotlib.pyplot as plt\n",
    "\n",
    "# Our data is getting better and better the more decision trees we are adding.\n",
    "plt.plot([metrics.r2_score(tennis_y, np.float64(np.mean(preds[:i+1], axis=0)>.5)) for i in range(trees)]);\n",
    "plt.show()"
   ]
  },
  {
   "cell_type": "code",
   "execution_count": 22,
   "metadata": {},
   "outputs": [],
   "source": [
    "i = 0\n",
    "for t in rfclf.estimators_:\n",
    "    export_graphviz(\n",
    "        t,\n",
    "        feature_names=tennis_x.columns,\n",
    "        filled=True,\n",
    "        rounded=True,\n",
    "        out_file=\"tree{}.dot\".format(i)\n",
    "    )\n",
    "    i += 1"
   ]
  },
  {
   "cell_type": "markdown",
   "metadata": {},
   "source": [
    "Tree 1\n",
    "------\n",
    "![tree0](tree0.png)\n",
    "Tree 2\n",
    "------\n",
    "![tree1](tree1.png)\n",
    "Tree 3\n",
    "------\n",
    "![tree2](tree2.png)\n",
    "Tree 4\n",
    "------\n",
    "![tree3](tree3.png)\n",
    "Tree 5\n",
    "------\n",
    "![tree4](tree4.png)"
   ]
  }
 ],
 "metadata": {
  "kernelspec": {
   "display_name": "Python 2",
   "language": "python",
   "name": "python2"
  },
  "language_info": {
   "codemirror_mode": {
    "name": "ipython",
    "version": 2
   },
   "file_extension": ".py",
   "mimetype": "text/x-python",
   "name": "python",
   "nbconvert_exporter": "python",
   "pygments_lexer": "ipython2",
   "version": "2.7.14"
  }
 },
 "nbformat": 4,
 "nbformat_minor": 2
}
