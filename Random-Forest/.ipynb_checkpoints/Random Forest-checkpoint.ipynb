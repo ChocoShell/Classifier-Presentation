{
 "cells": [
  {
   "cell_type": "markdown",
   "metadata": {},
   "source": [
    "Save for end:\n",
    "\n",
    "Why RF is better than MODEL (KNN, LR)?\n",
    "\n",
    "\n",
    "When the data set is large and/or there are many variables it becomes difficult to cluster the data because not all variables can be taken into account, therefore the algorithm can also give a certain chance that a data point belongs in a certain group.\n",
    "\n",
    "Random forest is kind of universal. It can predict any kind, (categorical or continous) any columns, pixels, zipcodes, revenues.  In general it doesn't overfit and if it does, it is easy to fix.  Don't need a separate validation set.  It has few if any statistical assumptions. It doesn't assume normal distributions, or linear, or that you specify the interactions.  Very few feature engineering. Doesn't need much math manipulation.\n",
    "\n",
    "Curse of dimensionality - The more columns you have, you create a space that is more and more empty.\n",
    "\n",
    "What are the pros cons? Why it works good?\n",
    "\n",
    "Why use RMSLE -> sum((log(actual) - log(predicted))^2)\n",
    "I believe RMSLE is usually used when you don't want to penalize huge differences in the predicted and true values when both predicted and true values are huge numbers.\n",
    "https://stats.stackexchange.com/a/110610\n",
    "\n",
    "We take ten bad models and can make one good model because their errors are not correlated with eachother due to them creating trees off of different chunks of data.\n",
    "\n",
    "Which variables matter the most and how do they relate to each other and the dependent variable.\n",
    "\n",
    "For example if you had 3 variables that mattered and 95 that didnt'.  KNN would be find meaningless neighbors because most of your columns are meaningless.\n",
    "\n",
    "Or if your relationship is y = x1 * x2 then you need to find that interaction.\n",
    "\n",
    "Find a model that tells you which variables are important and how do they relae to the output.\n",
    "\n",
    "Difference between \"tree space\" vs euclidean space.\n",
    "\n",
    "In bagging, you want each estimator to be as predictive as possible, but the predictions of the individual trees to be as uncorrelated as possible.\n",
    "\n",
    "Predictive but poorly correlated."
   ]
  },
  {
   "cell_type": "markdown",
   "metadata": {},
   "source": [
    "# Random Forest\n",
    "\n",
    "**Random Forest** is a statistical algorithm that is used to cluster points of data in groups.\n",
    "\n",
    "It is an ensemble approach made up of decision trees.  This can can also be thought of as a form of nearest neighbor predictor.[^1]\n",
    "\n",
    "**Ensembles** are groups of learners working together to create a strong learner.  The gray ones are a good guess at the data but the red curve is much better.[^2]\n",
    "\n",
    "[^1]: http://blog.citizennet.com/blog/2012/11/10/random-forests-ensembles-and-performance-metrics\n",
    "[^2]: https://blog.citizennet.com/hs-fs/hubfs/Imported_Blog_Media/skitch.png?t=1529595390188&width=482&name=skitch.png\n",
    "\n",
    "This is a very popular machine learning algorithm and the go to algorithm for a lot of users because it works pretty good without much work."
   ]
  },
  {
   "cell_type": "markdown",
   "metadata": {},
   "source": [
    "### Decision Trees\n",
    "\n",
    "![titanic](titanic_tree.png)"
   ]
  },
  {
   "cell_type": "markdown",
   "metadata": {},
   "source": [
    "### Advantages of Decision Tress\n",
    " - Simple to understand, interpret and visualize.\n",
    " - Implicitly perform feature selection\n",
    " - Handles numerical or categorical data\n",
    " - Not much effort needed in setting up data."
   ]
  },
  {
   "cell_type": "markdown",
   "metadata": {},
   "source": [
    "### Disadvantages\n",
    " - May create overally complex trees that cause overfitting instead of generalizing the data.\n",
    " - They can become unstable because of small variations in data which can be fixed with methods known as bagging and boosting.\n",
    " - Because decision trees are **greedy** they go for the best answer for the next step, which may cause us to get stuck in a local minimum and not the global minimum that we want."
   ]
  },
  {
   "cell_type": "markdown",
   "metadata": {},
   "source": [
    "##### Decision Tree Example\n",
    "We want to predict whether he will play tennis based on this data\n",
    "![tennis](tennis.PNG)\n",
    "\n",
    "Here is our initial tree structure.  When the sky is overcast, he has a 100% chance to play tennis.  This is called a pure subset.  Since the other choices lead to impure subsets, we should split them even further.\n",
    "![playing](playingBaseball.PNG)\n",
    "\n",
    "Once we split all the choices down into pure subsets, we can accurately predict what days John will play tennis.\n",
    "![playing](baseballSplit.PNG)\n",
    "\n",
    "This leads us to the simplified tree below.\n",
    "![final](finalTree.PNG)"
   ]
  },
  {
   "cell_type": "markdown",
   "metadata": {},
   "source": [
    "#### Decision Tree Code Example"
   ]
  },
  {
   "cell_type": "code",
   "execution_count": 4,
   "metadata": {},
   "outputs": [
    {
     "name": "stdout",
     "output_type": "stream",
     "text": [
      "Tennis data untouched\n",
      "   Day   Outlook Humidity    Wind Play\n",
      "0    1     Sunny     High    Weak   No\n",
      "1    2     Sunny     High  Strong   No\n",
      "2    3  Overcast     High    Weak  Yes\n",
      "3    4      Rain     High    Weak  Yes\n",
      "4    5      Rain   Normal    Weak  Yes\n",
      "\n",
      "Tennis Input Data with Categories\n",
      "     Outlook  Humidity  Wind\n",
      "Day                         \n",
      "1          2         0     1\n",
      "2          2         0     0\n",
      "3          0         0     1\n",
      "4          1         0     1\n",
      "5          1         1     1\n",
      "\n",
      "Tennis Output Data with Categories\n",
      "Day\n",
      "1    0\n",
      "2    0\n",
      "3    1\n",
      "4    1\n",
      "5    1\n",
      "Name: Play, dtype: int8\n"
     ]
    }
   ],
   "source": [
    "import pandas as pd\n",
    "import numpy as np\n",
    "\n",
    "# Reading in Tennis Data.\n",
    "tennis = pd.read_csv(\"tennis.csv\")\n",
    "\n",
    "print(\"Tennis data untouched\")\n",
    "print(tennis.head())\n",
    "\n",
    "# Using Day as index\n",
    "tennis.set_index('Day', inplace=True)\n",
    "\n",
    "# Saving copy of mostly untouched data\n",
    "untouched_data = tennis\n",
    "\n",
    "# Changing all categorical columns to numbers\n",
    "for column in tennis.columns.values:\n",
    "    tennis[column] = tennis[column].astype('category')\n",
    "\n",
    "tennis = tennis.apply(lambda x: x.cat.codes)\n",
    "\n",
    "# Splitting data into input data and output data\n",
    "tennis_x = tennis.drop('Play', axis=1)\n",
    "tennis_y = tennis['Play']\n",
    "\n",
    "print(\"\\nTennis Input Data with Categories\")\n",
    "\"\"\"\n",
    "Outlook:          Humidity:        Wind:            Play:\n",
    "    Sunny = 2         High = 0         Weak = 1         No = 0\n",
    "    Overcast = 0      Normal = 1       Strong = 0       Yes = 1\n",
    "    Rain = 1\n",
    "\"\"\"\n",
    "print(tennis_x.head())\n",
    "print(\"\\nTennis Output Data with Categories\")\n",
    "print(tennis_y.head())"
   ]
  },
  {
   "cell_type": "code",
   "execution_count": 5,
   "metadata": {},
   "outputs": [],
   "source": [
    "# Training our decision tree model\n",
    "from sklearn.tree import DecisionTreeClassifier\n",
    "dtclf = DecisionTreeClassifier()\n",
    "dtmodel = dtclf.fit(tennis_x, tennis_y)"
   ]
  },
  {
   "cell_type": "code",
   "execution_count": 6,
   "metadata": {
    "scrolled": true
   },
   "outputs": [],
   "source": [
    "# Visualizing our tree\n",
    "import graphviz\n",
    "import os\n",
    "from sklearn.tree import export_graphviz\n",
    "\n",
    "export_graphviz(\n",
    "    dtmodel,\n",
    "    feature_names=tennis_x.columns,\n",
    "    filled=True,\n",
    "    rounded=True,\n",
    "    out_file=\"tree.dot\"\n",
    ")\n",
    "\n",
    "# Run this to print out image\n",
    "# os.system('dot -Tpng tree.dot -o tree.png')"
   ]
  },
  {
   "cell_type": "markdown",
   "metadata": {},
   "source": [
    "![tennistree](tennisTree.png)"
   ]
  },
  {
   "cell_type": "markdown",
   "metadata": {},
   "source": [
    "### Breaking down our tree\n",
    "![catCodes](catCodes.png)"
   ]
  },
  {
   "cell_type": "markdown",
   "metadata": {},
   "source": [
    "#### Check when Outlook is Overcast\n",
    "![overcast](tennistree1.png)"
   ]
  },
  {
   "cell_type": "code",
   "execution_count": 7,
   "metadata": {},
   "outputs": [
    {
     "data": {
      "text/html": [
       "<div>\n",
       "<style scoped>\n",
       "    .dataframe tbody tr th:only-of-type {\n",
       "        vertical-align: middle;\n",
       "    }\n",
       "\n",
       "    .dataframe tbody tr th {\n",
       "        vertical-align: top;\n",
       "    }\n",
       "\n",
       "    .dataframe thead th {\n",
       "        text-align: right;\n",
       "    }\n",
       "</style>\n",
       "<table border=\"1\" class=\"dataframe\">\n",
       "  <thead>\n",
       "    <tr style=\"text-align: right;\">\n",
       "      <th></th>\n",
       "      <th>Outlook</th>\n",
       "      <th>Play</th>\n",
       "    </tr>\n",
       "    <tr>\n",
       "      <th>Day</th>\n",
       "      <th></th>\n",
       "      <th></th>\n",
       "    </tr>\n",
       "  </thead>\n",
       "  <tbody>\n",
       "    <tr>\n",
       "      <th>3</th>\n",
       "      <td>Overcast</td>\n",
       "      <td>Yes</td>\n",
       "    </tr>\n",
       "    <tr>\n",
       "      <th>7</th>\n",
       "      <td>Overcast</td>\n",
       "      <td>Yes</td>\n",
       "    </tr>\n",
       "    <tr>\n",
       "      <th>12</th>\n",
       "      <td>Overcast</td>\n",
       "      <td>Yes</td>\n",
       "    </tr>\n",
       "    <tr>\n",
       "      <th>13</th>\n",
       "      <td>Overcast</td>\n",
       "      <td>Yes</td>\n",
       "    </tr>\n",
       "  </tbody>\n",
       "</table>\n",
       "</div>"
      ],
      "text/plain": [
       "      Outlook Play\n",
       "Day               \n",
       "3    Overcast  Yes\n",
       "7    Overcast  Yes\n",
       "12   Overcast  Yes\n",
       "13   Overcast  Yes"
      ]
     },
     "execution_count": 7,
     "metadata": {},
     "output_type": "execute_result"
    }
   ],
   "source": [
    "# First part of the tree tells us to split on whether the data is Overcast or not.\n",
    "untouched_data[untouched_data['Outlook'] == 'Overcast'][['Outlook', 'Play']]\n",
    "# When it's overcast, they will always play tennis.\n",
    "\n",
    "# Add overcast False"
   ]
  },
  {
   "cell_type": "markdown",
   "metadata": {},
   "source": [
    "#### Humidity Check after Outlook is not Overcast\n",
    "![humidity](tennistree2.png)"
   ]
  },
  {
   "cell_type": "code",
   "execution_count": 8,
   "metadata": {},
   "outputs": [
    {
     "data": {
      "text/html": [
       "<div>\n",
       "<style scoped>\n",
       "    .dataframe tbody tr th:only-of-type {\n",
       "        vertical-align: middle;\n",
       "    }\n",
       "\n",
       "    .dataframe tbody tr th {\n",
       "        vertical-align: top;\n",
       "    }\n",
       "\n",
       "    .dataframe thead th {\n",
       "        text-align: right;\n",
       "    }\n",
       "</style>\n",
       "<table border=\"1\" class=\"dataframe\">\n",
       "  <thead>\n",
       "    <tr style=\"text-align: right;\">\n",
       "      <th></th>\n",
       "      <th>Outlook</th>\n",
       "      <th>Humidity</th>\n",
       "      <th>Wind</th>\n",
       "      <th>Play</th>\n",
       "    </tr>\n",
       "    <tr>\n",
       "      <th>Day</th>\n",
       "      <th></th>\n",
       "      <th></th>\n",
       "      <th></th>\n",
       "      <th></th>\n",
       "    </tr>\n",
       "  </thead>\n",
       "  <tbody>\n",
       "    <tr>\n",
       "      <th>1</th>\n",
       "      <td>Sunny</td>\n",
       "      <td>High</td>\n",
       "      <td>Weak</td>\n",
       "      <td>No</td>\n",
       "    </tr>\n",
       "    <tr>\n",
       "      <th>2</th>\n",
       "      <td>Sunny</td>\n",
       "      <td>High</td>\n",
       "      <td>Strong</td>\n",
       "      <td>No</td>\n",
       "    </tr>\n",
       "    <tr>\n",
       "      <th>4</th>\n",
       "      <td>Rain</td>\n",
       "      <td>High</td>\n",
       "      <td>Weak</td>\n",
       "      <td>Yes</td>\n",
       "    </tr>\n",
       "    <tr>\n",
       "      <th>5</th>\n",
       "      <td>Rain</td>\n",
       "      <td>Normal</td>\n",
       "      <td>Weak</td>\n",
       "      <td>Yes</td>\n",
       "    </tr>\n",
       "    <tr>\n",
       "      <th>6</th>\n",
       "      <td>Rain</td>\n",
       "      <td>Normal</td>\n",
       "      <td>Strong</td>\n",
       "      <td>No</td>\n",
       "    </tr>\n",
       "    <tr>\n",
       "      <th>8</th>\n",
       "      <td>Sunny</td>\n",
       "      <td>High</td>\n",
       "      <td>Weak</td>\n",
       "      <td>No</td>\n",
       "    </tr>\n",
       "    <tr>\n",
       "      <th>9</th>\n",
       "      <td>Sunny</td>\n",
       "      <td>Normal</td>\n",
       "      <td>Weak</td>\n",
       "      <td>Yes</td>\n",
       "    </tr>\n",
       "    <tr>\n",
       "      <th>10</th>\n",
       "      <td>Rain</td>\n",
       "      <td>Normal</td>\n",
       "      <td>Weak</td>\n",
       "      <td>Yes</td>\n",
       "    </tr>\n",
       "    <tr>\n",
       "      <th>11</th>\n",
       "      <td>Sunny</td>\n",
       "      <td>Normal</td>\n",
       "      <td>Strong</td>\n",
       "      <td>Yes</td>\n",
       "    </tr>\n",
       "    <tr>\n",
       "      <th>14</th>\n",
       "      <td>Rain</td>\n",
       "      <td>High</td>\n",
       "      <td>Strong</td>\n",
       "      <td>No</td>\n",
       "    </tr>\n",
       "  </tbody>\n",
       "</table>\n",
       "</div>"
      ],
      "text/plain": [
       "    Outlook Humidity    Wind Play\n",
       "Day                              \n",
       "1     Sunny     High    Weak   No\n",
       "2     Sunny     High  Strong   No\n",
       "4      Rain     High    Weak  Yes\n",
       "5      Rain   Normal    Weak  Yes\n",
       "6      Rain   Normal  Strong   No\n",
       "8     Sunny     High    Weak   No\n",
       "9     Sunny   Normal    Weak  Yes\n",
       "10     Rain   Normal    Weak  Yes\n",
       "11    Sunny   Normal  Strong  Yes\n",
       "14     Rain     High  Strong   No"
      ]
     },
     "execution_count": 8,
     "metadata": {},
     "output_type": "execute_result"
    }
   ],
   "source": [
    "untouched_data[untouched_data['Outlook'] != 'Overcast']"
   ]
  },
  {
   "cell_type": "code",
   "execution_count": 9,
   "metadata": {},
   "outputs": [
    {
     "data": {
      "text/html": [
       "<div>\n",
       "<style scoped>\n",
       "    .dataframe tbody tr th:only-of-type {\n",
       "        vertical-align: middle;\n",
       "    }\n",
       "\n",
       "    .dataframe tbody tr th {\n",
       "        vertical-align: top;\n",
       "    }\n",
       "\n",
       "    .dataframe thead th {\n",
       "        text-align: right;\n",
       "    }\n",
       "</style>\n",
       "<table border=\"1\" class=\"dataframe\">\n",
       "  <thead>\n",
       "    <tr style=\"text-align: right;\">\n",
       "      <th></th>\n",
       "      <th>Outlook</th>\n",
       "      <th>Humidity</th>\n",
       "      <th>Wind</th>\n",
       "      <th>Play</th>\n",
       "    </tr>\n",
       "    <tr>\n",
       "      <th>Day</th>\n",
       "      <th></th>\n",
       "      <th></th>\n",
       "      <th></th>\n",
       "      <th></th>\n",
       "    </tr>\n",
       "  </thead>\n",
       "  <tbody>\n",
       "    <tr>\n",
       "      <th>1</th>\n",
       "      <td>Sunny</td>\n",
       "      <td>High</td>\n",
       "      <td>Weak</td>\n",
       "      <td>No</td>\n",
       "    </tr>\n",
       "    <tr>\n",
       "      <th>2</th>\n",
       "      <td>Sunny</td>\n",
       "      <td>High</td>\n",
       "      <td>Strong</td>\n",
       "      <td>No</td>\n",
       "    </tr>\n",
       "    <tr>\n",
       "      <th>4</th>\n",
       "      <td>Rain</td>\n",
       "      <td>High</td>\n",
       "      <td>Weak</td>\n",
       "      <td>Yes</td>\n",
       "    </tr>\n",
       "    <tr>\n",
       "      <th>8</th>\n",
       "      <td>Sunny</td>\n",
       "      <td>High</td>\n",
       "      <td>Weak</td>\n",
       "      <td>No</td>\n",
       "    </tr>\n",
       "    <tr>\n",
       "      <th>14</th>\n",
       "      <td>Rain</td>\n",
       "      <td>High</td>\n",
       "      <td>Strong</td>\n",
       "      <td>No</td>\n",
       "    </tr>\n",
       "  </tbody>\n",
       "</table>\n",
       "</div>"
      ],
      "text/plain": [
       "    Outlook Humidity    Wind Play\n",
       "Day                              \n",
       "1     Sunny     High    Weak   No\n",
       "2     Sunny     High  Strong   No\n",
       "4      Rain     High    Weak  Yes\n",
       "8     Sunny     High    Weak   No\n",
       "14     Rain     High  Strong   No"
      ]
     },
     "execution_count": 9,
     "metadata": {},
     "output_type": "execute_result"
    }
   ],
   "source": [
    "untouched_data[\n",
    "    (untouched_data['Outlook'] != 'Overcast') & (untouched_data['Humidity'] == 'High')\n",
    "]"
   ]
  },
  {
   "cell_type": "code",
   "execution_count": 10,
   "metadata": {},
   "outputs": [
    {
     "data": {
      "text/html": [
       "<div>\n",
       "<style scoped>\n",
       "    .dataframe tbody tr th:only-of-type {\n",
       "        vertical-align: middle;\n",
       "    }\n",
       "\n",
       "    .dataframe tbody tr th {\n",
       "        vertical-align: top;\n",
       "    }\n",
       "\n",
       "    .dataframe thead th {\n",
       "        text-align: right;\n",
       "    }\n",
       "</style>\n",
       "<table border=\"1\" class=\"dataframe\">\n",
       "  <thead>\n",
       "    <tr style=\"text-align: right;\">\n",
       "      <th></th>\n",
       "      <th>Outlook</th>\n",
       "      <th>Humidity</th>\n",
       "      <th>Wind</th>\n",
       "      <th>Play</th>\n",
       "    </tr>\n",
       "    <tr>\n",
       "      <th>Day</th>\n",
       "      <th></th>\n",
       "      <th></th>\n",
       "      <th></th>\n",
       "      <th></th>\n",
       "    </tr>\n",
       "  </thead>\n",
       "  <tbody>\n",
       "    <tr>\n",
       "      <th>5</th>\n",
       "      <td>Rain</td>\n",
       "      <td>Normal</td>\n",
       "      <td>Weak</td>\n",
       "      <td>Yes</td>\n",
       "    </tr>\n",
       "    <tr>\n",
       "      <th>6</th>\n",
       "      <td>Rain</td>\n",
       "      <td>Normal</td>\n",
       "      <td>Strong</td>\n",
       "      <td>No</td>\n",
       "    </tr>\n",
       "    <tr>\n",
       "      <th>9</th>\n",
       "      <td>Sunny</td>\n",
       "      <td>Normal</td>\n",
       "      <td>Weak</td>\n",
       "      <td>Yes</td>\n",
       "    </tr>\n",
       "    <tr>\n",
       "      <th>10</th>\n",
       "      <td>Rain</td>\n",
       "      <td>Normal</td>\n",
       "      <td>Weak</td>\n",
       "      <td>Yes</td>\n",
       "    </tr>\n",
       "    <tr>\n",
       "      <th>11</th>\n",
       "      <td>Sunny</td>\n",
       "      <td>Normal</td>\n",
       "      <td>Strong</td>\n",
       "      <td>Yes</td>\n",
       "    </tr>\n",
       "  </tbody>\n",
       "</table>\n",
       "</div>"
      ],
      "text/plain": [
       "    Outlook Humidity    Wind Play\n",
       "Day                              \n",
       "5      Rain   Normal    Weak  Yes\n",
       "6      Rain   Normal  Strong   No\n",
       "9     Sunny   Normal    Weak  Yes\n",
       "10     Rain   Normal    Weak  Yes\n",
       "11    Sunny   Normal  Strong  Yes"
      ]
     },
     "execution_count": 10,
     "metadata": {},
     "output_type": "execute_result"
    }
   ],
   "source": [
    "untouched_data[\n",
    "   (untouched_data['Outlook'] != 'Overcast') & (untouched_data['Humidity'] != 'High')\n",
    "]"
   ]
  },
  {
   "cell_type": "markdown",
   "metadata": {},
   "source": [
    "(.20*4+.80)/5 talk about 3rd level of Tree"
   ]
  },
  {
   "cell_type": "markdown",
   "metadata": {},
   "source": [
    "### How is a decision tree split?\n",
    "\n",
    "http://www.saedsayad.com/decision_tree.htm\n",
    "\n",
    "https://medium.com/deep-math-machine-learning-ai/chapter-4-decision-trees-algorithms-b93975f7a1f1\n",
    "\n",
    "Gini index is used to split.\n",
    "\n",
    "$$Gini(s, t) = Gini(t) - P_L \\times Gini(t_L) - P_R \\times Gini(t_r)$$\n",
    "Where:\n",
    " - s: split\n",
    " - t: node\n",
    " - Gini(t): Gini index of input node t\n",
    " - P_T: Number of cases where s is true over total number of cases.\n",
    " - Gini(t_T): Gini of Left(True) node after split, s\n",
    " - P_F: Total Number of cases where s is false over total number of cases.\n",
    " - Gini(t_F): Gini of Right(False) Node after split, s\n",
    " \n",
    "\n",
    "$$Gini(t) = 1 - \\sum^{t=1}_{t=0}P_t^2$$\n",
    "$$1 - P_{t=0}^2 - P_{t=1}^2$$\n",
    "\n",
    "Let's find the gini index/impurity of the dependent variable."
   ]
  },
  {
   "cell_type": "code",
   "execution_count": 45,
   "metadata": {},
   "outputs": [
    {
     "data": {
      "text/html": [
       "<div>\n",
       "<style scoped>\n",
       "    .dataframe tbody tr th:only-of-type {\n",
       "        vertical-align: middle;\n",
       "    }\n",
       "\n",
       "    .dataframe tbody tr th {\n",
       "        vertical-align: top;\n",
       "    }\n",
       "\n",
       "    .dataframe thead th {\n",
       "        text-align: right;\n",
       "    }\n",
       "</style>\n",
       "<table border=\"1\" class=\"dataframe\">\n",
       "  <thead>\n",
       "    <tr style=\"text-align: right;\">\n",
       "      <th></th>\n",
       "      <th>Count</th>\n",
       "    </tr>\n",
       "    <tr>\n",
       "      <th>Play</th>\n",
       "      <th></th>\n",
       "    </tr>\n",
       "  </thead>\n",
       "  <tbody>\n",
       "    <tr>\n",
       "      <th>No</th>\n",
       "      <td>5</td>\n",
       "    </tr>\n",
       "    <tr>\n",
       "      <th>Yes</th>\n",
       "      <td>9</td>\n",
       "    </tr>\n",
       "  </tbody>\n",
       "</table>\n",
       "</div>"
      ],
      "text/plain": [
       "      Count\n",
       "Play       \n",
       "No        5\n",
       "Yes       9"
      ]
     },
     "execution_count": 45,
     "metadata": {},
     "output_type": "execute_result"
    }
   ],
   "source": [
    "x = untouched_data.groupby('Play').count()\n",
    "\n",
    "x = x.drop(columns=['Outlook', 'Wind'])\n",
    "x.rename(columns={'Humidity': 'Count'})"
   ]
  },
  {
   "cell_type": "markdown",
   "metadata": {},
   "source": [
    "$$1 - (\\frac{5}{14})^2 - (\\frac{9}{14})^2$$"
   ]
  },
  {
   "cell_type": "code",
   "execution_count": 81,
   "metadata": {},
   "outputs": [
    {
     "data": {
      "text/plain": [
       "0.46"
      ]
     },
     "execution_count": 81,
     "metadata": {},
     "output_type": "execute_result"
    }
   ],
   "source": [
    "# Round to 2 decimal places\n",
    "round(\n",
    "    1.0 - ((5.0/(5.0+9.0))**2.0) - ((9.0/(5.0+9.0))**2.0),\n",
    "    2\n",
    ")"
   ]
  },
  {
   "cell_type": "code",
   "execution_count": 91,
   "metadata": {},
   "outputs": [
    {
     "data": {
      "text/html": [
       "<table>\n",
       "<tbody>\n",
       "<tr><td>        </td><td>No</td><td>Yes</td><td>Total</td></tr>\n",
       "<tr><td>Overcast</td><td>0 </td><td>4  </td><td>4    </td></tr>\n",
       "<tr><td>Rain    </td><td>2 </td><td>3  </td><td>5    </td></tr>\n",
       "<tr><td>Sunny   </td><td>3 </td><td>2  </td><td>5    </td></tr>\n",
       "<tr><td>Total   </td><td>5 </td><td>9  </td><td>14   </td></tr>\n",
       "</tbody>\n",
       "</table>"
      ],
      "text/plain": [
       "<IPython.core.display.HTML object>"
      ]
     },
     "metadata": {},
     "output_type": "display_data"
    }
   ],
   "source": [
    "from IPython.display import HTML, display\n",
    "import tabulate\n",
    "table = [[\"\",\"No\",\"Yes\", \"Total\"],\n",
    "         [\"Overcast\",0,4, 4],\n",
    "         [\"Rain\",2,3, 5],\n",
    "         [\"Sunny\",3,2, 5],\n",
    "         [\"Total\",5,9, 14]]\n",
    "display(HTML(tabulate.tabulate(table, tablefmt='html')))"
   ]
  },
  {
   "cell_type": "code",
   "execution_count": 93,
   "metadata": {},
   "outputs": [
    {
     "data": {
      "text/html": [
       "<table>\n",
       "<tbody>\n",
       "<tr><td>      </td><td>No</td><td>Yes</td><td>Total</td></tr>\n",
       "<tr><td>Strong</td><td>3 </td><td>3  </td><td>6    </td></tr>\n",
       "<tr><td>Weak  </td><td>2 </td><td>6  </td><td>8    </td></tr>\n",
       "<tr><td>Total </td><td>5 </td><td>9  </td><td>14   </td></tr>\n",
       "</tbody>\n",
       "</table>"
      ],
      "text/plain": [
       "<IPython.core.display.HTML object>"
      ]
     },
     "metadata": {},
     "output_type": "display_data"
    }
   ],
   "source": [
    "# Wind\n",
    "table = [[\"\",\"No\",\"Yes\", \"Total\"],\n",
    "         [\"Strong\", 3, 3, 6],\n",
    "         [\"Weak\", 2, 6, 8],\n",
    "         [\"Total\", 5, 9, 14]]\n",
    "display(HTML(tabulate.tabulate(table, tablefmt='html')))"
   ]
  },
  {
   "cell_type": "code",
   "execution_count": 94,
   "metadata": {},
   "outputs": [
    {
     "data": {
      "text/html": [
       "<table>\n",
       "<tbody>\n",
       "<tr><td>      </td><td>No</td><td>Yes</td><td>Total</td></tr>\n",
       "<tr><td>High  </td><td>4 </td><td>3  </td><td>7    </td></tr>\n",
       "<tr><td>Normal</td><td>1 </td><td>6  </td><td>7    </td></tr>\n",
       "<tr><td>Total </td><td>5 </td><td>9  </td><td>14   </td></tr>\n",
       "</tbody>\n",
       "</table>"
      ],
      "text/plain": [
       "<IPython.core.display.HTML object>"
      ]
     },
     "metadata": {},
     "output_type": "display_data"
    }
   ],
   "source": [
    "# Humidity\n",
    "\n",
    "table = [[\"\",\"No\",\"Yes\", \"Total\"],\n",
    "         [\"High\", 4, 3, 7],\n",
    "         [\"Normal\", 1, 6, 7],\n",
    "         [\"Total\", 5, 9, 14]]\n",
    "display(HTML(tabulate.tabulate(table, tablefmt='html')))"
   ]
  },
  {
   "cell_type": "markdown",
   "metadata": {},
   "source": [
    "When Overcast:\n",
    "\n",
    "$$Gini(Overcast, index) = Gini(index) - P_T \\times Gini(OvercastIsTrue) - P_F \\times Gini(OvercastIsFalse)$$\n",
    "\n",
    "Gini(t) is 0.46.  Gini index of dependent variable:\n",
    "$$Gini(Overcast, index) = 0.46 - P_T \\times Gini(OvercastIsTrue) - P_F \\times Gini(OvercastIsFalse)$$\n",
    "\n",
    "Solving for inner Ginis:\n",
    "$$Gini(OvercastIsTrue) = 1 - (\\frac{0}{4})^2 - (\\frac{4}{4})^2 = 0$$\n",
    "$$Gini(OvercastIsFalse) = 1 - (\\frac{5}{10})^2 - (\\frac{5}{10})^2 = 0.5$$\n",
    "\n",
    "We are left with:\n",
    "$$Gini(Overcast, t) = 0.46 - P_T \\times 0 - P_F \\times 0.5)$$\n",
    "\n",
    "Solving P's:\n",
    "$$P_T = \\frac{4}{14}$$\n",
    "\n",
    "$$P_F = \\frac{10}{14}$$\n",
    "\n",
    "Pluging everything in gives us:\n",
    "\n",
    "$$Gini(Overcast, index) = 0.46 - \\frac{4}{14} \\times 0 - \\frac{10}{14} \\times 0.5) = 0.103$$"
   ]
  },
  {
   "cell_type": "markdown",
   "metadata": {},
   "source": [
    "Rapid fire for other ones:\n",
    " - Gini(Rain, index) = $0.46 - \\frac{5}{14} \\times [1 - (\\frac{2}{5})^2 - (\\frac{3}{5})^2] - \\frac{9}{14} \\times [1 - (\\frac{3}{9})^2 - (\\frac{6}{9})^2] = 0.003$\n",
    " - Gini(Sunny, index) = $0.46 - \\frac{5}{14} \\times [1 - (\\frac{3}{5})^2 - (\\frac{2}{5})^2] - \\frac{9}{14} \\times [1 - (\\frac{2}{9})^2 - (\\frac{7}{9})^2] = 0.066$\n",
    " - Gini(Wind, index) = $0.46 - \\frac{6}{14} \\times [1 - (\\frac{3}{6})^2 - (\\frac{3}{6})^2] - \\frac{8}{14} \\times [1 - (\\frac{2}{8})^2 - (\\frac{6}{8})^2] = 0.031$\n",
    " - Gini(Humidity, index) = $0.46 - \\frac{7}{14} \\times [1 - (\\frac{4}{7})^2 - (\\frac{3}{7})^2] - \\frac{7}{14} \\times [1 - (\\frac{1}{7})^2 - (\\frac{6}{7})^2] = 0.093$"
   ]
  },
  {
   "cell_type": "code",
   "execution_count": 78,
   "metadata": {},
   "outputs": [
    {
     "data": {
      "text/html": [
       "<div>\n",
       "<style scoped>\n",
       "    .dataframe tbody tr th:only-of-type {\n",
       "        vertical-align: middle;\n",
       "    }\n",
       "\n",
       "    .dataframe tbody tr th {\n",
       "        vertical-align: top;\n",
       "    }\n",
       "\n",
       "    .dataframe thead th {\n",
       "        text-align: right;\n",
       "    }\n",
       "</style>\n",
       "<table border=\"1\" class=\"dataframe\">\n",
       "  <thead>\n",
       "    <tr style=\"text-align: right;\">\n",
       "      <th></th>\n",
       "      <th>Outlook</th>\n",
       "    </tr>\n",
       "    <tr>\n",
       "      <th>Play</th>\n",
       "      <th></th>\n",
       "    </tr>\n",
       "  </thead>\n",
       "  <tbody>\n",
       "    <tr>\n",
       "      <th>No</th>\n",
       "      <td>0</td>\n",
       "    </tr>\n",
       "    <tr>\n",
       "      <th>Yes</th>\n",
       "      <td>4</td>\n",
       "    </tr>\n",
       "  </tbody>\n",
       "</table>\n",
       "</div>"
      ],
      "text/plain": [
       "      Outlook\n",
       "Play         \n",
       "No          0\n",
       "Yes         4"
      ]
     },
     "execution_count": 78,
     "metadata": {},
     "output_type": "execute_result"
    }
   ],
   "source": [
    "# when Overcast\n",
    "overcast = untouched_data[untouched_data['Outlook'] == 'Overcast'][['Outlook', 'Play']].groupby('Play').count()\n",
    "not_overcast = untouched_data[untouched_data['Outlook'] != 'Overcast'][['Outlook', 'Play']].groupby('Play').count()"
   ]
  },
  {
   "cell_type": "code",
   "execution_count": 76,
   "metadata": {},
   "outputs": [
    {
     "data": {
      "text/plain": [
       "0.5"
      ]
     },
     "execution_count": 76,
     "metadata": {},
     "output_type": "execute_result"
    }
   ],
   "source": [
    "def get_gini(df):\n",
    "    col = df.columns.values[0]\n",
    "    total = df[col].sum()\n",
    "    gini = 1.0\n",
    "    for row in df[col]:\n",
    "        gini -= (1.0*row/total)**2\n",
    "    return gini\n",
    "\n",
    "get_gini(not_overcast)"
   ]
  },
  {
   "cell_type": "markdown",
   "metadata": {},
   "source": [
    "# Random Forest Again"
   ]
  },
  {
   "cell_type": "code",
   "execution_count": 12,
   "metadata": {},
   "outputs": [
    {
     "name": "stdout",
     "output_type": "stream",
     "text": [
      "[ 1.  1.  1.  1.  1.  1.]\n",
      "1.0\n",
      "1\n"
     ]
    }
   ],
   "source": [
    "from sklearn.ensemble import RandomForestClassifier\n",
    "\n",
    "trees = 6\n",
    "# Default number of trees is 10\n",
    "rfclf = RandomForestClassifier(n_estimators=trees, n_jobs=-1)\n",
    "rfclf.fit(tennis_x, tennis_y)\n",
    "\n",
    "preds = np.stack([t.predict(tennis_x) for t in rfclf.estimators_])\n",
    "\n",
    "index = 2\n",
    "print(preds[:,index])\n",
    "print(np.float64(np.mean(preds[:,index])>.5))\n",
    "print(tennis_y.iloc[index])\n"
   ]
  },
  {
   "cell_type": "code",
   "execution_count": 13,
   "metadata": {},
   "outputs": [
    {
     "data": {
      "image/png": "[encoded data removed]",
      "text/plain": [
       "<matplotlib.figure.Figure at 0x136fb730>"
      ]
     },
     "metadata": {},
     "output_type": "display_data"
    }
   ],
   "source": [
    "from sklearn import metrics\n",
    "import matplotlib.pyplot as plt\n",
    "\n",
    "plt.plot([metrics.r2_score(tennis_y, np.float64(np.mean(preds[:i+1], axis=0)>.5)) for i in range(trees)]);\n",
    "plt.show()"
   ]
  },
  {
   "cell_type": "markdown",
   "metadata": {},
   "source": [
    "### Back to Random Forests\n",
    "\n",
    "Random Forests are just multiple decision trees used in conjuction.  In a classifcation problem, the multiple decision trees vote on the outcome, while in a regression problem, you will take the average accross all trees.\n",
    "\n",
    "Its basic principle is that one will be worse at predictions as opposed to a group similar to contestants asking the audience to vote on 'Who wants to be a Millionaire?'"
   ]
  },
  {
   "cell_type": "markdown",
   "metadata": {},
   "source": [
    "### Advantages\n",
    "- Handles missing values and maintains accuracy when a large proportion fo the data is missing\n",
    "- It won't overfit for multiple trees.\n",
    "- Can handle large data sets with more dimensions."
   ]
  },
  {
   "cell_type": "markdown",
   "metadata": {},
   "source": [
    "### Disadvantages\n",
    "- Good job at classifcation but not great for regression.\n",
    "- Very 'black box'. You do not know what's going on inside them."
   ]
  },
  {
   "cell_type": "markdown",
   "metadata": {},
   "source": [
    "### Applications\n",
    "- Finding loyal customers at a store/bank, etc.\n",
    "- Helpful for diagnosing diseases based on past medical history.\n",
    "- Stock Market: Can be used to figure out expected loss/profit for a particular stock\n",
    "- Recommendation engine: Finding likelyhood of customer liking a specific product.\n",
    "- Image Classifcation: Kinect uses it to track the body."
   ]
  },
  {
   "cell_type": "markdown",
   "metadata": {},
   "source": [
    "### How are Random Forests Made?\n",
    "- Assume a total number of cases, N, in a training set.  Then we take a sample of these at random with replacement.\n",
    "- If there are M input variables/features, a number m<M is specified such that at each node, m variables are selected at random out of the M.  The best split on these m is used to split the node. The value of m is held constant while we grow the forest.\n",
    "- Each tree is grown as far as possible (overfitting if we were just using 1 decision tree) with no pruning (chopping off nodes)\n",
    "- Predict new data by voting for classifcation."
   ]
  },
  {
   "cell_type": "markdown",
   "metadata": {},
   "source": [
    "Random Forest is an ensemble machine learning algorithm meaning that the algorithm takes a weak algorithm and combines them into a strong one.\n",
    "\n",
    "They use a divide and conquer approach so a miniforest inside the random forest may detect some other prediction.  For example, if we are trying to figure out if an image is a hand or not, there may be mini forests that can detect fingers."
   ]
  },
  {
   "cell_type": "markdown",
   "metadata": {},
   "source": [
    "### Random Forest Terms\n",
    "\n",
    "**Bagging** (stands for **B**ootstrap **Agg**regat**ing**) is a way to decrease the variance of your prediction by generating additional data for training from your original dataset.  Because you are generating data, you are not improving the predicting power of the model, but decreasing the variance.\n",
    "\n",
    "**Boosting** is a two-step approach, where one first uses subsets of the original data to produce a series of averagely performing models and then \"boosts\" their performance by combining them together using a particular cost function (=majority vote). Unlike bagging, in the classical boosting the subset creation is not random and depends upon the performance of the previous models: every new subsets contains the elements that were (likely to be) misclassified by previous models.  Used to reduce bias(underfitting -> Won't be good at predicting) and variance(overfitting -> Too good at predicting the training data but isn't generalizable)."
   ]
  },
  {
   "cell_type": "markdown",
   "metadata": {},
   "source": []
  }
 ],
 "metadata": {
  "kernelspec": {
   "display_name": "Python 2",
   "language": "python",
   "name": "python2"
  },
  "language_info": {
   "codemirror_mode": {
    "name": "ipython",
    "version": 2
   },
   "file_extension": ".py",
   "mimetype": "text/x-python",
   "name": "python",
   "nbconvert_exporter": "python",
   "pygments_lexer": "ipython2",
   "version": "2.7.14"
  }
 },
 "nbformat": 4,
 "nbformat_minor": 2
}
